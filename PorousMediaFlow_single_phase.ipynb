{
 "cells": [
  {
   "cell_type": "code",
   "execution_count": null,
   "metadata": {},
   "outputs": [],
   "source": [
    "# Libraries Import\n",
    "import matplotlib.pyplot as plt\n",
    "import numpy as np\n",
    "from dolfin import *\n",
    "import os"
   ]
  },
  {
   "cell_type": "code",
   "execution_count": null,
   "metadata": {},
   "outputs": [],
   "source": [
    "# Helping self defined Functions\n",
    "# Read subdomains from .msh file\n",
    "def readDomains(inPath,inFile):\n",
    "    # Read .msh File\n",
    "    fid = open(inPath+inFile+'.msh', 'r')\n",
    "    # Initialize variables\n",
    "    found = 0\n",
    "    finished = 0\n",
    "    physicalNames = {}\n",
    "    # Loop througn .msh lines\n",
    "    for line in fid:\n",
    "        if '$EndPhysicalNames' in line:\n",
    "            finished == 1\n",
    "            break\n",
    "        elif '$PhysicalNames' in line:\n",
    "            found = 1\n",
    "        elif found==1 and finished == 0:\n",
    "            word=line.split()\n",
    "            if len(word)==3:\n",
    "                physicalNames[word[2][1:len(word[2])-1]] = int(word[1])\n",
    "\n",
    "    return physicalNames\n",
    "\n",
    "# Convert .msh file to .xml files\n",
    "def msh2xml(inPath,inFile,outPath,outFile):\n",
    "    cmd = 'dolfin-convert '+inPath+inFile+'.msh '+outPath+outFile+'.xml'\n",
    "    print(cmd)\n",
    "    os.system(cmd)\n",
    "\n",
    "# Deformation Tensor\n",
    "def DD(u):\n",
    "    #Cartesian\n",
    "    D = 0.5*(nabla_grad(u) + nabla_grad(u).T)\n",
    "    return D\n",
    "#     return 0.5*(nabla_grad(u) + nabla_grad(u).T)\n",
    "\n",
    "# Stress Tensor\n",
    "def TT(u, p, mu):\n",
    "    #Cartesian\n",
    "    T = 2*mu*DD(u) - p*Identity(len(u))\n",
    "    return T"
   ]
  },
  {
   "cell_type": "code",
   "execution_count": null,
   "metadata": {},
   "outputs": [],
   "source": [
    "# Inputs\n",
    "# Mesh File\n",
    "meshPath = '/mnt/d/Meshes/'\n",
    "# meshFile = 'SimplerImageOKFlipped' \n",
    "meshFile = 'chip_micronit' \n",
    "\n",
    "# Timestep\n",
    "dt = 0.1\n",
    "\n",
    "# Pressure Difference\n",
    "Pin = 0.1\n",
    "Pout = 0\n",
    "\n",
    "# Fluid Properties\n",
    "rho = 1000\n",
    "mu = 0.1\n",
    "alpha = 0.9\n",
    "# Mesh Elements\n",
    "# Velocity\n",
    "velocityElementfamily = 'Lagrange'\n",
    "velocityElementOrder = 2\n",
    "# Pressure\n",
    "pressureElementfamily = 'Lagrange'\n",
    "pressureElementOrder = 1\n",
    "# msh2xml(meshPath,meshFile,meshPath,meshFile)\n",
    "\n",
    "# Solver Parameters\n",
    "absTol = 1e-8\n",
    "relTol = 1e-9\n",
    "maxIter = 15\n",
    "linearSolver = 'mumps'"
   ]
  },
  {
   "cell_type": "code",
   "execution_count": null,
   "metadata": {},
   "outputs": [],
   "source": [
    "# Mesh Reading\n",
    "# Load Subdomains\n",
    "Subdomains = readDomains(meshPath,meshFile)\n",
    "print(Subdomains)\n",
    "\n",
    "# Option 2 - Gmsh generation and XML Conversion\n",
    "meshObj = Mesh(meshPath+meshFile +'.xml')\n",
    "# Initialize boundaries (inlet, outlet, etc...)\n",
    "boundaries = MeshFunction('size_t',meshObj,meshPath+meshFile + \"_facet_region.xml\")\n",
    "# Initialize subdomain (fluid)\n",
    "markers = MeshFunction('size_t',meshObj,meshPath+meshFile + '_physical_region.xml')\n",
    "# Open new figure\n",
    "# plt.figure(figsize=(14, 6), dpi=180, facecolor='w', edgecolor='k')\n",
    "# plot Mesh and save image\n",
    "plot(meshObj)\n",
    "# plt.savefig('Mesh.png')"
   ]
  },
  {
   "cell_type": "code",
   "execution_count": null,
   "metadata": {},
   "outputs": [],
   "source": [
    "# Get Element Shape: Triangle, etc...\n",
    "elementShape = meshObj.ufl_cell()\n",
    "\n",
    "# Set Mesh Elements\n",
    "Uel = VectorElement(velocityElementfamily, elementShape, velocityElementOrder) # Velocity vector field\n",
    "Pel = FiniteElement(pressureElementfamily, elementShape, pressureElementOrder) # Pressure field\n",
    "UPel = MixedElement([Uel,Pel])"
   ]
  },
  {
   "cell_type": "code",
   "execution_count": null,
   "metadata": {},
   "outputs": [],
   "source": [
    "# Define any measure associated with domain and subdomains\n",
    "dx = Measure('dx', domain=meshObj)\n",
    "ds = Measure('ds', domain=meshObj, subdomain_data=boundaries)\n",
    "\n",
    "# Vectors Normal to the Mesh\n",
    "n = FacetNormal(meshObj) # Normal vector to mesh"
   ]
  },
  {
   "cell_type": "code",
   "execution_count": null,
   "metadata": {},
   "outputs": [],
   "source": [
    "# Function Spaces: Flow\n",
    "# Mixed Function Space: Pressure and Velocity\n",
    "W = FunctionSpace(meshObj,UPel)\n",
    "\n",
    "w0 = Function(W)"
   ]
  },
  {
   "cell_type": "code",
   "execution_count": null,
   "metadata": {},
   "outputs": [],
   "source": [
    " ##### Functions\n",
    "## Trial and Test function(s)\n",
    "dw = TrialFunction(W)\n",
    "(v, q) = TestFunctions(W)\n",
    "w = Function(W)\n",
    "\n",
    "# Split into Velocity and Pressure\n",
    "(u, p) = (as_vector((w[0], w[1])), w[2])\n",
    "(U, P) = W.split()\n",
    "\n",
    "# Time step Constant\n",
    "Dt = Constant(dt)"
   ]
  },
  {
   "cell_type": "code",
   "execution_count": null,
   "metadata": {},
   "outputs": [],
   "source": [
    "# Bilinear Form\n",
    "# Linear Momentum Conservation: F = a - L\n",
    "          # Inertia Term                    # Viscous Forces Term           \n",
    "a1 = (rho*dot(dot(u,grad(u) ) ,v) + inner(TT(u,p,mu),DD(v)))*dx() \n",
    "\n",
    "        # Inlet Pressure                         # Outlet Pressure                            # Gravity\n",
    "L1 = - (Pin)*dot(n,v)*ds(Subdomains['Inlet']) - (Pout)*dot(n,v)*ds(Subdomains['Outlet']) # + inner(rho*fb(inputs),v)*dx()\n",
    "\n",
    "# Mass Conservation(Continuity)\n",
    "a2 = (q*div(u))*dx()\n",
    "L2 = 0\n",
    "# Complete Weak Form\n",
    "F = (a1 + a2) - (L1 + L2)\n",
    "# Jacobian Matrix\n",
    "J = derivative(F,w,dw)\n",
    "\n",
    "# Apply Flow Boundary Conditions\n",
    "bcU1 = DirichletBC(W.sub(0),Constant((0.0,0.0)),boundaries,Subdomains['BottomWall'])\n",
    "bcU2 = DirichletBC(W.sub(0),Constant((0.0,0.0)),boundaries,Subdomains['TopWall'])\n",
    "bcU3 = DirichletBC(W.sub(0),Constant((0.0,0.0)),boundaries,Subdomains['InnerWalls'])\n",
    "bcU = [bcU1,bcU2,bcU3]\n",
    "\n",
    "\n",
    "##########   Numerical Solver Properties\n",
    "# Problem and Solver definitions\n",
    "problemU = NonlinearVariationalProblem(F,w,bcU,J)\n",
    "solverU = NonlinearVariationalSolver(problemU)\n",
    "# # Solver Parameters\n",
    "prmU = solverU.parameters\n",
    "# #info(prmU,True)  #get full info on the parameters\n",
    "prmU['nonlinear_solver'] = 'newton'\n",
    "# prmU['newton_solver']['absolute_tolerance'] = absTol\n",
    "# prmU['newton_solver']['relative_tolerance'] = relTol\n",
    "# prmU['newton_solver']['maximum_iterations'] = maxIter\n",
    "prmU['newton_solver']['linear_solver'] = linearSolver\n"
   ]
  },
  {
   "cell_type": "code",
   "execution_count": null,
   "metadata": {},
   "outputs": [],
   "source": [
    "# Solve Problem\n",
    "(no_iterations,converged) = solverU.solve()"
   ]
  },
  {
   "cell_type": "code",
   "execution_count": null,
   "metadata": {},
   "outputs": [],
   "source": [
    "# Open new figure\n",
    "plt.figure(figsize=(20, 10), dpi=180, facecolor='w', edgecolor='k')\n",
    "plot(p)\n"
   ]
  },
  {
   "cell_type": "code",
   "execution_count": null,
   "metadata": {},
   "outputs": [],
   "source": [
    "# Open new figure\n",
    "plt.figure(figsize=(20, 10), dpi=180, facecolor='w', edgecolor='k')\n",
    "plot(u)\n"
   ]
  },
  {
   "cell_type": "code",
   "execution_count": null,
   "metadata": {},
   "outputs": [],
   "source": [
    "plt.figure(figsize=(20, 10), dpi=180, facecolor='w', edgecolor='k')\n",
    "plot(p)\n",
    "plot(u)"
   ]
  },
  {
   "cell_type": "code",
   "execution_count": null,
   "metadata": {},
   "outputs": [],
   "source": []
  },
  {
   "cell_type": "code",
   "execution_count": null,
   "metadata": {},
   "outputs": [],
   "source": []
  }
 ],
 "metadata": {
  "kernelspec": {
   "display_name": "Python 3",
   "language": "python",
   "name": "python3"
  },
  "language_info": {
   "codemirror_mode": {
    "name": "ipython",
    "version": 3
   },
   "file_extension": ".py",
   "mimetype": "text/x-python",
   "name": "python",
   "nbconvert_exporter": "python",
   "pygments_lexer": "ipython3",
   "version": "3.6.9-final"
  },
  "latex_envs": {
   "LaTeX_envs_menu_present": true,
   "autoclose": false,
   "autocomplete": true,
   "bibliofile": "biblio.bib",
   "cite_by": "apalike",
   "current_citInitial": 1,
   "eqLabelWithNumbers": true,
   "eqNumInitial": 1,
   "hotkeys": {
    "equation": "Ctrl-E",
    "itemize": "Ctrl-I"
   },
   "labels_anchors": false,
   "latex_user_defs": false,
   "report_style_numbering": false,
   "user_envs_cfg": false
  }
 },
 "nbformat": 4,
 "nbformat_minor": 4
}